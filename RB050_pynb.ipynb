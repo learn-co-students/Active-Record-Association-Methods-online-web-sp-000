{
  "nbformat": 4,
  "nbformat_minor": 0,
  "metadata": {
    "colab": {
      "name": "RB050.pynb",
      "provenance": [],
      "authorship_tag": "ABX9TyPuWrX1mBhQyU09cZS2jkRh",
      "include_colab_link": true
    },
    "kernelspec": {
      "name": "python3",
      "display_name": "Python 3"
    },
    "language_info": {
      "name": "python"
    }
  },
  "cells": [
    {
      "cell_type": "markdown",
      "metadata": {
        "id": "view-in-github",
        "colab_type": "text"
      },
      "source": [
        "<a href=\"https://colab.research.google.com/github/guzamaguza/Active-Record-Association-Methods-online-web-sp-000/blob/master/RB050_pynb.ipynb\" target=\"_parent\"><img src=\"https://colab.research.google.com/assets/colab-badge.svg\" alt=\"Open In Colab\"/></a>"
      ]
    },
    {
      "cell_type": "markdown",
      "source": [
        "Simple Linear Regression Model ML\n",
        "https://towardsdatascience.com/simple-linear-regression-model-using-python-machine-learning-eab7924d18b4\n",
        "\n"
      ],
      "metadata": {
        "id": "n-dqkxhb5wWq"
      }
    },
    {
      "cell_type": "code",
      "execution_count": 55,
      "metadata": {
        "colab": {
          "base_uri": "https://localhost:8080/",
          "height": 456
        },
        "id": "LvLugdJFdZky",
        "outputId": "ed3864fa-a6f3-413c-863a-3ad6da81f03b"
      },
      "outputs": [
        {
          "output_type": "stream",
          "name": "stdout",
          "text": [
            "<class 'pandas.core.frame.DataFrame'>\n",
            "RangeIndex: 15 entries, 0 to 14\n",
            "Data columns (total 2 columns):\n",
            " #   Column         Non-Null Count  Dtype\n",
            "---  ------         --------------  -----\n",
            " 0   Day Count      15 non-null     int64\n",
            " 1   Total per Day  15 non-null     int64\n",
            "dtypes: int64(2)\n",
            "memory usage: 368.0 bytes\n"
          ]
        },
        {
          "output_type": "execute_result",
          "data": {
            "text/plain": [
              "       Day Count  Total per Day\n",
              "count  15.000000      15.000000\n",
              "mean    7.000000      14.266667\n",
              "std     4.472136      14.776751\n",
              "min     0.000000       0.000000\n",
              "25%     3.500000       0.000000\n",
              "50%     7.000000      12.000000\n",
              "75%    10.500000      24.000000\n",
              "max    14.000000      48.000000"
            ],
            "text/html": [
              "\n",
              "  <div id=\"df-6b31207c-309f-425e-a1c4-ce0c0b76d337\">\n",
              "    <div class=\"colab-df-container\">\n",
              "      <div>\n",
              "<style scoped>\n",
              "    .dataframe tbody tr th:only-of-type {\n",
              "        vertical-align: middle;\n",
              "    }\n",
              "\n",
              "    .dataframe tbody tr th {\n",
              "        vertical-align: top;\n",
              "    }\n",
              "\n",
              "    .dataframe thead th {\n",
              "        text-align: right;\n",
              "    }\n",
              "</style>\n",
              "<table border=\"1\" class=\"dataframe\">\n",
              "  <thead>\n",
              "    <tr style=\"text-align: right;\">\n",
              "      <th></th>\n",
              "      <th>Day Count</th>\n",
              "      <th>Total per Day</th>\n",
              "    </tr>\n",
              "  </thead>\n",
              "  <tbody>\n",
              "    <tr>\n",
              "      <th>count</th>\n",
              "      <td>15.000000</td>\n",
              "      <td>15.000000</td>\n",
              "    </tr>\n",
              "    <tr>\n",
              "      <th>mean</th>\n",
              "      <td>7.000000</td>\n",
              "      <td>14.266667</td>\n",
              "    </tr>\n",
              "    <tr>\n",
              "      <th>std</th>\n",
              "      <td>4.472136</td>\n",
              "      <td>14.776751</td>\n",
              "    </tr>\n",
              "    <tr>\n",
              "      <th>min</th>\n",
              "      <td>0.000000</td>\n",
              "      <td>0.000000</td>\n",
              "    </tr>\n",
              "    <tr>\n",
              "      <th>25%</th>\n",
              "      <td>3.500000</td>\n",
              "      <td>0.000000</td>\n",
              "    </tr>\n",
              "    <tr>\n",
              "      <th>50%</th>\n",
              "      <td>7.000000</td>\n",
              "      <td>12.000000</td>\n",
              "    </tr>\n",
              "    <tr>\n",
              "      <th>75%</th>\n",
              "      <td>10.500000</td>\n",
              "      <td>24.000000</td>\n",
              "    </tr>\n",
              "    <tr>\n",
              "      <th>max</th>\n",
              "      <td>14.000000</td>\n",
              "      <td>48.000000</td>\n",
              "    </tr>\n",
              "  </tbody>\n",
              "</table>\n",
              "</div>\n",
              "      <button class=\"colab-df-convert\" onclick=\"convertToInteractive('df-6b31207c-309f-425e-a1c4-ce0c0b76d337')\"\n",
              "              title=\"Convert this dataframe to an interactive table.\"\n",
              "              style=\"display:none;\">\n",
              "        \n",
              "  <svg xmlns=\"http://www.w3.org/2000/svg\" height=\"24px\"viewBox=\"0 0 24 24\"\n",
              "       width=\"24px\">\n",
              "    <path d=\"M0 0h24v24H0V0z\" fill=\"none\"/>\n",
              "    <path d=\"M18.56 5.44l.94 2.06.94-2.06 2.06-.94-2.06-.94-.94-2.06-.94 2.06-2.06.94zm-11 1L8.5 8.5l.94-2.06 2.06-.94-2.06-.94L8.5 2.5l-.94 2.06-2.06.94zm10 10l.94 2.06.94-2.06 2.06-.94-2.06-.94-.94-2.06-.94 2.06-2.06.94z\"/><path d=\"M17.41 7.96l-1.37-1.37c-.4-.4-.92-.59-1.43-.59-.52 0-1.04.2-1.43.59L10.3 9.45l-7.72 7.72c-.78.78-.78 2.05 0 2.83L4 21.41c.39.39.9.59 1.41.59.51 0 1.02-.2 1.41-.59l7.78-7.78 2.81-2.81c.8-.78.8-2.07 0-2.86zM5.41 20L4 18.59l7.72-7.72 1.47 1.35L5.41 20z\"/>\n",
              "  </svg>\n",
              "      </button>\n",
              "      \n",
              "  <style>\n",
              "    .colab-df-container {\n",
              "      display:flex;\n",
              "      flex-wrap:wrap;\n",
              "      gap: 12px;\n",
              "    }\n",
              "\n",
              "    .colab-df-convert {\n",
              "      background-color: #E8F0FE;\n",
              "      border: none;\n",
              "      border-radius: 50%;\n",
              "      cursor: pointer;\n",
              "      display: none;\n",
              "      fill: #1967D2;\n",
              "      height: 32px;\n",
              "      padding: 0 0 0 0;\n",
              "      width: 32px;\n",
              "    }\n",
              "\n",
              "    .colab-df-convert:hover {\n",
              "      background-color: #E2EBFA;\n",
              "      box-shadow: 0px 1px 2px rgba(60, 64, 67, 0.3), 0px 1px 3px 1px rgba(60, 64, 67, 0.15);\n",
              "      fill: #174EA6;\n",
              "    }\n",
              "\n",
              "    [theme=dark] .colab-df-convert {\n",
              "      background-color: #3B4455;\n",
              "      fill: #D2E3FC;\n",
              "    }\n",
              "\n",
              "    [theme=dark] .colab-df-convert:hover {\n",
              "      background-color: #434B5C;\n",
              "      box-shadow: 0px 1px 3px 1px rgba(0, 0, 0, 0.15);\n",
              "      filter: drop-shadow(0px 1px 2px rgba(0, 0, 0, 0.3));\n",
              "      fill: #FFFFFF;\n",
              "    }\n",
              "  </style>\n",
              "\n",
              "      <script>\n",
              "        const buttonEl =\n",
              "          document.querySelector('#df-6b31207c-309f-425e-a1c4-ce0c0b76d337 button.colab-df-convert');\n",
              "        buttonEl.style.display =\n",
              "          google.colab.kernel.accessAllowed ? 'block' : 'none';\n",
              "\n",
              "        async function convertToInteractive(key) {\n",
              "          const element = document.querySelector('#df-6b31207c-309f-425e-a1c4-ce0c0b76d337');\n",
              "          const dataTable =\n",
              "            await google.colab.kernel.invokeFunction('convertToInteractive',\n",
              "                                                     [key], {});\n",
              "          if (!dataTable) return;\n",
              "\n",
              "          const docLinkHtml = 'Like what you see? Visit the ' +\n",
              "            '<a target=\"_blank\" href=https://colab.research.google.com/notebooks/data_table.ipynb>data table notebook</a>'\n",
              "            + ' to learn more about interactive tables.';\n",
              "          element.innerHTML = '';\n",
              "          dataTable['output_type'] = 'display_data';\n",
              "          await google.colab.output.renderOutput(dataTable, element);\n",
              "          const docLink = document.createElement('div');\n",
              "          docLink.innerHTML = docLinkHtml;\n",
              "          element.appendChild(docLink);\n",
              "        }\n",
              "      </script>\n",
              "    </div>\n",
              "  </div>\n",
              "  "
            ]
          },
          "metadata": {},
          "execution_count": 55
        }
      ],
      "source": [
        "\n",
        "\n",
        "# Supress Warnings\n",
        "import warnings\n",
        "warnings.filterwarnings('ignore')\n",
        "\n",
        "# Import the numpy and pandas package\n",
        "import numpy as np\n",
        "import pandas as pd\n",
        "\n",
        "# Read the given CSV file, and view some sample records\n",
        "#fault_data = pd.read_csv(\"RB050 Data 2022.csv\")\n",
        "fault_data = pd.read_csv(\"rb50.csv\")\n",
        "fault_data\n",
        "\n",
        "fault_data.shape\n",
        "fault_data.info()\n",
        "fault_data.describe()\n",
        "\n",
        "#date_fault = fault_data.assign(date = lambda x: fault_data['Start'])\n",
        "#total_mins = fault_data.assign(total_mins = lambda x: fault_data['Total [mins]'])\n",
        "#print(date)\n",
        "\n"
      ]
    },
    {
      "cell_type": "markdown",
      "source": [
        ""
      ],
      "metadata": {
        "id": "0pSbEndH5tR1"
      }
    },
    {
      "cell_type": "markdown",
      "source": [
        ""
      ],
      "metadata": {
        "id": "nZNa7XwE5vGA"
      }
    },
    {
      "cell_type": "code",
      "source": [
        "# Import matplotlib and seaborn libraries to visualize the data\n",
        "import matplotlib.pyplot as plt \n",
        "import seaborn as sns\n",
        "\n",
        "#Visualizing the data using scatter plot\n",
        "sns.pairplot(fault_data, x_vars='Day Count', y_vars='Total per Day', size=4, aspect=6, kind='scatter')\n",
        "plt.show() \n",
        "\n",
        "# Visualizing the data using heatmap\n",
        "#sns.heatmap(fault_data.corr(), cmap=\"YlGnBu\", annot = True)\n",
        "#plt.show()\n",
        "\n",
        "# plotting the points  \n",
        "#plt.plot(date_fault, total_mins) \n",
        "    \n",
        "# naming the x axis \n",
        "#plt.xlabel('x - axis') \n",
        "# naming the y axis \n",
        "#plt.ylabel('y - axis') \n",
        "    \n",
        "# giving a title to my graph \n",
        "#plt.title('My first graph!') \n",
        "    \n",
        "# function to show the plot \n"
      ],
      "metadata": {
        "colab": {
          "base_uri": "https://localhost:8080/",
          "height": 269
        },
        "outputId": "a97c3816-87c6-4b80-f283-aa55580631b1",
        "id": "78ruIrH0feJ2"
      },
      "execution_count": 56,
      "outputs": [
        {
          "output_type": "display_data",
          "data": {
            "text/plain": [
              "<Figure size 1728x288 with 1 Axes>"
            ],
            "image/png": "[encoded data removed]"
          },
          "metadata": {
            "needs_background": "light"
          }
        }
      ]
    },
    {
      "cell_type": "code",
      "source": [
        "# Creating X and y\n",
        "X = fault_data['Day Count']\n",
        "y = fault_data['Total per Day']\n",
        "\n",
        "# Splitting the varaibles as training and testing\n",
        "from sklearn.model_selection import train_test_split\n",
        "X_train, X_test, y_train, y_test = train_test_split(X, y, train_size = 0.7, test_size = 0.3, random_state = 100)\n",
        "\n",
        "# Take a look at the train dataset\n",
        "print(X_train)\n",
        "print(y_train)\n",
        "#X[X.isnull() == True]\n",
        "\n",
        "X.fillna(method = 'ffill', inplace = True)\n",
        "y.fillna(method = 'ffill', inplace = True)\n",
        "\n",
        "#plt.plot(X,y)\n",
        "#plt.plot(X_train, y_train) "
      ],
      "metadata": {
        "colab": {
          "base_uri": "https://localhost:8080/"
        },
        "id": "X_UrqWkQfE49",
        "outputId": "a4e7ce22-5251-4a7c-d598-6e0368f3fc82"
      },
      "execution_count": 57,
      "outputs": [
        {
          "output_type": "stream",
          "name": "stdout",
          "text": [
            "10    10\n",
            "5      5\n",
            "2      2\n",
            "4      4\n",
            "0      0\n",
            "11    11\n",
            "7      7\n",
            "3      3\n",
            "14    14\n",
            "8      8\n",
            "Name: Day Count, dtype: int64\n",
            "10    12\n",
            "5     12\n",
            "2      3\n",
            "4      0\n",
            "0      0\n",
            "11    19\n",
            "7     12\n",
            "3      0\n",
            "14    48\n",
            "8     29\n",
            "Name: Total per Day, dtype: int64\n"
          ]
        }
      ]
    },
    {
      "cell_type": "code",
      "source": [
        "# Importing Statsmodels.api library from Stamodel package\n",
        "import statsmodels.api as sm\n",
        "\n",
        "# Adding a constant to get an intercept\n",
        "X_train_sm = sm.add_constant(X_train)\n",
        "\n",
        "# Fitting the resgression line using 'OLS'\n",
        "#ols_model = sm.OLS(fault_data.endog, fault_data.exog, missing='drop')\n",
        "lr = sm.OLS(y_train, X_train_sm).fit()\n",
        "\n",
        "# Printing the parameters\n",
        "lr.params\n",
        "\n",
        "# Performing a summary to list out all the different parameters of the regression line fitted\n",
        "lr.summary()"
      ],
      "metadata": {
        "colab": {
          "base_uri": "https://localhost:8080/",
          "height": 452
        },
        "id": "Jr__1kgd6cm7",
        "outputId": "4fc26b92-e63e-42d0-b352-43c051b11d9d"
      },
      "execution_count": 58,
      "outputs": [
        {
          "output_type": "execute_result",
          "data": {
            "text/plain": [
              "<class 'statsmodels.iolib.summary.Summary'>\n",
              "\"\"\"\n",
              "                            OLS Regression Results                            \n",
              "==============================================================================\n",
              "Dep. Variable:          Total per Day   R-squared:                       0.727\n",
              "Model:                            OLS   Adj. R-squared:                  0.693\n",
              "Method:                 Least Squares   F-statistic:                     21.30\n",
              "Date:                Tue, 29 Mar 2022   Prob (F-statistic):            0.00172\n",
              "Time:                        04:28:38   Log-Likelihood:                -34.492\n",
              "No. Observations:                  10   AIC:                             72.98\n",
              "Df Residuals:                       8   BIC:                             73.59\n",
              "Df Model:                           1                                         \n",
              "Covariance Type:            nonrobust                                         \n",
              "==============================================================================\n",
              "                 coef    std err          t      P>|t|      [0.025      0.975]\n",
              "------------------------------------------------------------------------------\n",
              "const         -5.5459      4.927     -1.126      0.293     -16.908       5.816\n",
              "Day Count      2.9759      0.645      4.616      0.002       1.489       4.463\n",
              "==============================================================================\n",
              "Omnibus:                        0.652   Durbin-Watson:                   1.535\n",
              "Prob(Omnibus):                  0.722   Jarque-Bera (JB):                0.547\n",
              "Skew:                           0.095   Prob(JB):                        0.761\n",
              "Kurtosis:                       1.870   Cond. No.                         14.2\n",
              "==============================================================================\n",
              "\n",
              "Warnings:\n",
              "[1] Standard Errors assume that the covariance matrix of the errors is correctly specified.\n",
              "\"\"\""
            ],
            "text/html": [
              "<table class=\"simpletable\">\n",
              "<caption>OLS Regression Results</caption>\n",
              "<tr>\n",
              "  <th>Dep. Variable:</th>      <td>Total per Day</td>  <th>  R-squared:         </th> <td>   0.727</td>\n",
              "</tr>\n",
              "<tr>\n",
              "  <th>Model:</th>                   <td>OLS</td>       <th>  Adj. R-squared:    </th> <td>   0.693</td>\n",
              "</tr>\n",
              "<tr>\n",
              "  <th>Method:</th>             <td>Least Squares</td>  <th>  F-statistic:       </th> <td>   21.30</td>\n",
              "</tr>\n",
              "<tr>\n",
              "  <th>Date:</th>             <td>Tue, 29 Mar 2022</td> <th>  Prob (F-statistic):</th>  <td>0.00172</td>\n",
              "</tr>\n",
              "<tr>\n",
              "  <th>Time:</th>                 <td>04:28:38</td>     <th>  Log-Likelihood:    </th> <td> -34.492</td>\n",
              "</tr>\n",
              "<tr>\n",
              "  <th>No. Observations:</th>      <td>    10</td>      <th>  AIC:               </th> <td>   72.98</td>\n",
              "</tr>\n",
              "<tr>\n",
              "  <th>Df Residuals:</th>          <td>     8</td>      <th>  BIC:               </th> <td>   73.59</td>\n",
              "</tr>\n",
              "<tr>\n",
              "  <th>Df Model:</th>              <td>     1</td>      <th>                     </th>     <td> </td>   \n",
              "</tr>\n",
              "<tr>\n",
              "  <th>Covariance Type:</th>      <td>nonrobust</td>    <th>                     </th>     <td> </td>   \n",
              "</tr>\n",
              "</table>\n",
              "<table class=\"simpletable\">\n",
              "<tr>\n",
              "      <td></td>         <th>coef</th>     <th>std err</th>      <th>t</th>      <th>P>|t|</th>  <th>[0.025</th>    <th>0.975]</th>  \n",
              "</tr>\n",
              "<tr>\n",
              "  <th>const</th>     <td>   -5.5459</td> <td>    4.927</td> <td>   -1.126</td> <td> 0.293</td> <td>  -16.908</td> <td>    5.816</td>\n",
              "</tr>\n",
              "<tr>\n",
              "  <th>Day Count</th> <td>    2.9759</td> <td>    0.645</td> <td>    4.616</td> <td> 0.002</td> <td>    1.489</td> <td>    4.463</td>\n",
              "</tr>\n",
              "</table>\n",
              "<table class=\"simpletable\">\n",
              "<tr>\n",
              "  <th>Omnibus:</th>       <td> 0.652</td> <th>  Durbin-Watson:     </th> <td>   1.535</td>\n",
              "</tr>\n",
              "<tr>\n",
              "  <th>Prob(Omnibus):</th> <td> 0.722</td> <th>  Jarque-Bera (JB):  </th> <td>   0.547</td>\n",
              "</tr>\n",
              "<tr>\n",
              "  <th>Skew:</th>          <td> 0.095</td> <th>  Prob(JB):          </th> <td>   0.761</td>\n",
              "</tr>\n",
              "<tr>\n",
              "  <th>Kurtosis:</th>      <td> 1.870</td> <th>  Cond. No.          </th> <td>    14.2</td>\n",
              "</tr>\n",
              "</table><br/><br/>Warnings:<br/>[1] Standard Errors assume that the covariance matrix of the errors is correctly specified."
            ]
          },
          "metadata": {},
          "execution_count": 58
        }
      ]
    },
    {
      "cell_type": "code",
      "source": [
        "# Visualizing the regression line\n",
        "plt.scatter(X_train, y_train)\n",
        "plt.plot(X_train, -5.5459 + 2.9759*X_train, 'r')\n",
        "plt.show()"
      ],
      "metadata": {
        "colab": {
          "base_uri": "https://localhost:8080/",
          "height": 267
        },
        "id": "e_GiKHJ70NhL",
        "outputId": "fa74eca4-ff5a-4bb5-c504-d85e1b929f94"
      },
      "execution_count": 59,
      "outputs": [
        {
          "output_type": "display_data",
          "data": {
            "text/plain": [
              "<Figure size 432x288 with 1 Axes>"
            ],
            "image/png": "[encoded data removed]"
          },
          "metadata": {
            "needs_background": "light"
          }
        }
      ]
    },
    {
      "cell_type": "code",
      "source": [
        "# Predicting y_value using traingn data of X\n",
        "y_train_pred = lr.predict(X_train_sm)\n",
        "\n",
        "# Creating residuals from the y_train data and predicted y_data\n",
        "res = (y_train - y_train_pred)\n",
        "\n",
        "# Plotting the histogram using the residual values\n",
        "fig = plt.figure()\n",
        "sns.distplot(res, bins = 15)\n",
        "plt.title('Error Terms', fontsize = 15)\n",
        "plt.xlabel('y_train - y_train_pred', fontsize = 15)\n",
        "plt.show()"
      ],
      "metadata": {
        "colab": {
          "base_uri": "https://localhost:8080/",
          "height": 304
        },
        "id": "DruLVQ_70-o0",
        "outputId": "9be06ace-9ce8-42fc-f6b2-08cb78dcc5f9"
      },
      "execution_count": 60,
      "outputs": [
        {
          "output_type": "display_data",
          "data": {
            "text/plain": [
              "<Figure size 432x288 with 1 Axes>"
            ],
            "image/png": "[encoded data removed]"
          },
          "metadata": {
            "needs_background": "light"
          }
        }
      ]
    },
    {
      "cell_type": "code",
      "source": [
        "# Looking for any patterns in the residuals\n",
        "plt.scatter(X_train,res)\n",
        "plt.show()"
      ],
      "metadata": {
        "colab": {
          "base_uri": "https://localhost:8080/",
          "height": 265
        },
        "id": "BivVjnhe17qH",
        "outputId": "c1ed5bb1-39c6-4e91-87bd-bc034aaba302"
      },
      "execution_count": 61,
      "outputs": [
        {
          "output_type": "display_data",
          "data": {
            "text/plain": [
              "<Figure size 432x288 with 1 Axes>"
            ],
            "image/png": "[encoded data removed]"
          },
          "metadata": {
            "needs_background": "light"
          }
        }
      ]
    },
    {
      "cell_type": "code",
      "source": [
        "# Adding a constant to X_test\n",
        "X_test_sm = sm.add_constant(X_test)\n",
        "\n",
        "# Predicting the y values corresponding to X_test_sm\n",
        "y_test_pred = lr.predict(X_test_sm)\n",
        "\n",
        "# Printing the first 15 predicted values\n",
        "print(y_test_pred)\n",
        "#print(X_test_sm)\n",
        "#print(lr.predict(56))"
      ],
      "metadata": {
        "colab": {
          "base_uri": "https://localhost:8080/"
        },
        "id": "TgdUdBdg2YKo",
        "outputId": "0a5332df-65cc-451b-ff7a-ae10f4c2833c"
      },
      "execution_count": 62,
      "outputs": [
        {
          "output_type": "stream",
          "name": "stdout",
          "text": [
            "9     21.237385\n",
            "1     -2.569954\n",
            "12    30.165138\n",
            "13    33.141055\n",
            "6     12.309633\n",
            "dtype: float64\n"
          ]
        }
      ]
    },
    {
      "cell_type": "code",
      "source": [
        "# Importing r2_square\n",
        "from sklearn.metrics import r2_score\n",
        "\n",
        "# Checking the R-squared value\n",
        "r_squared = r2_score(y_test, y_test_pred)\n",
        "r_squared"
      ],
      "metadata": {
        "colab": {
          "base_uri": "https://localhost:8080/"
        },
        "id": "h-mMPPhm2hrE",
        "outputId": "dfe7573d-7094-449a-be33-4ebcb287dd27"
      },
      "execution_count": 63,
      "outputs": [
        {
          "output_type": "execute_result",
          "data": {
            "text/plain": [
              "0.6199887070268908"
            ]
          },
          "metadata": {},
          "execution_count": 63
        }
      ]
    },
    {
      "cell_type": "code",
      "source": [
        "# Visualize the line on the test set\n",
        "plt.scatter(X_test, y_test)\n",
        "plt.plot(X_test, y_test_pred, 'r')\n",
        "plt.show()\n",
        "#prediction = -5.5459 + 2.9759*(15)\n",
        "#print(prediction)"
      ],
      "metadata": {
        "colab": {
          "base_uri": "https://localhost:8080/",
          "height": 265
        },
        "id": "-Ru10QrC2vbU",
        "outputId": "8825511c-8148-4e0c-9570-d101ade7f477"
      },
      "execution_count": 67,
      "outputs": [
        {
          "output_type": "display_data",
          "data": {
            "text/plain": [
              "<Figure size 432x288 with 1 Axes>"
            ],
            "image/png": "[encoded data removed]"
          },
          "metadata": {
            "needs_background": "light"
          }
        }
      ]
    }
  ]
}